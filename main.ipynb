{
 "cells": [
  {
   "cell_type": "code",
   "execution_count": 1,
   "metadata": {},
   "outputs": [
    {
     "name": "stderr",
     "output_type": "stream",
     "text": [
      "2023-10-16 15:55:21.436206: I tensorflow/core/util/port.cc:110] oneDNN custom operations are on. You may see slightly different numerical results due to floating-point round-off errors from different computation orders. To turn them off, set the environment variable `TF_ENABLE_ONEDNN_OPTS=0`.\n",
      "2023-10-16 15:55:21.615297: I tensorflow/core/platform/cpu_feature_guard.cc:182] This TensorFlow binary is optimized to use available CPU instructions in performance-critical operations.\n",
      "To enable the following instructions: AVX2 AVX_VNNI FMA, in other operations, rebuild TensorFlow with the appropriate compiler flags.\n",
      "2023-10-16 15:55:23.120051: W tensorflow/compiler/tf2tensorrt/utils/py_utils.cc:38] TF-TRT Warning: Could not find TensorRT\n"
     ]
    }
   ],
   "source": [
    "import tensorflow as tf\n",
    "import keras\n",
    "import numpy as np\n",
    "import matplotlib.pyplot as plt\n",
    "from keras.layers import Dense, Flatten\n",
    "from keras.models import Sequential\n",
    "from keras.datasets import mnist\n",
    "import os"
   ]
  },
  {
   "cell_type": "code",
   "execution_count": 2,
   "metadata": {},
   "outputs": [
    {
     "name": "stderr",
     "output_type": "stream",
     "text": [
      "2023-10-16 15:55:29.913212: I tensorflow/compiler/xla/stream_executor/cuda/cuda_gpu_executor.cc:981] could not open file to read NUMA node: /sys/bus/pci/devices/0000:01:00.0/numa_node\n",
      "Your kernel may have been built without NUMA support.\n",
      "2023-10-16 15:55:30.404785: I tensorflow/compiler/xla/stream_executor/cuda/cuda_gpu_executor.cc:981] could not open file to read NUMA node: /sys/bus/pci/devices/0000:01:00.0/numa_node\n",
      "Your kernel may have been built without NUMA support.\n",
      "2023-10-16 15:55:30.404864: I tensorflow/compiler/xla/stream_executor/cuda/cuda_gpu_executor.cc:981] could not open file to read NUMA node: /sys/bus/pci/devices/0000:01:00.0/numa_node\n",
      "Your kernel may have been built without NUMA support.\n",
      "2023-10-16 15:55:30.411771: I tensorflow/compiler/xla/stream_executor/cuda/cuda_gpu_executor.cc:981] could not open file to read NUMA node: /sys/bus/pci/devices/0000:01:00.0/numa_node\n",
      "Your kernel may have been built without NUMA support.\n",
      "2023-10-16 15:55:30.411844: I tensorflow/compiler/xla/stream_executor/cuda/cuda_gpu_executor.cc:981] could not open file to read NUMA node: /sys/bus/pci/devices/0000:01:00.0/numa_node\n",
      "Your kernel may have been built without NUMA support.\n",
      "2023-10-16 15:55:30.411857: I tensorflow/compiler/xla/stream_executor/cuda/cuda_gpu_executor.cc:981] could not open file to read NUMA node: /sys/bus/pci/devices/0000:01:00.0/numa_node\n",
      "Your kernel may have been built without NUMA support.\n",
      "2023-10-16 15:55:32.803906: I tensorflow/compiler/xla/stream_executor/cuda/cuda_gpu_executor.cc:981] could not open file to read NUMA node: /sys/bus/pci/devices/0000:01:00.0/numa_node\n",
      "Your kernel may have been built without NUMA support.\n",
      "2023-10-16 15:55:32.803988: I tensorflow/compiler/xla/stream_executor/cuda/cuda_gpu_executor.cc:981] could not open file to read NUMA node: /sys/bus/pci/devices/0000:01:00.0/numa_node\n",
      "Your kernel may have been built without NUMA support.\n",
      "2023-10-16 15:55:32.803993: I tensorflow/core/common_runtime/gpu/gpu_device.cc:1726] Could not identify NUMA node of platform GPU id 0, defaulting to 0.  Your kernel may not have been built with NUMA support.\n",
      "2023-10-16 15:55:32.804012: I tensorflow/compiler/xla/stream_executor/cuda/cuda_gpu_executor.cc:981] could not open file to read NUMA node: /sys/bus/pci/devices/0000:01:00.0/numa_node\n",
      "Your kernel may have been built without NUMA support.\n",
      "2023-10-16 15:55:32.804082: I tensorflow/core/common_runtime/gpu/gpu_device.cc:1639] Created device /job:localhost/replica:0/task:0/device:GPU:0 with 1592 MB memory:  -> device: 0, name: NVIDIA GeForce RTX 3050 Laptop GPU, pci bus id: 0000:01:00.0, compute capability: 8.6\n"
     ]
    }
   ],
   "source": [
    "(X_train, y_train), (X_test, y_test) = mnist.load_data()\n",
    "X_test= X_test/255.0\n",
    "X_train = X_train/255.0\n",
    "X_train = tf.reshape(tf.cast(X_train, tf.float32), [-1, 28*28])\n",
    "X_test = tf.reshape(tf.cast(X_test, tf.float32), [-1, 28*28])\n",
    "\n",
    "y = y_test\n",
    "y_train = keras.utils.to_categorical(y_train, 10)\n",
    "y_test = keras.utils.to_categorical(y_test, 10)"
   ]
  },
  {
   "cell_type": "code",
   "execution_count": 13,
   "metadata": {},
   "outputs": [],
   "source": [
    "model = Sequential()\n",
    "model.add(Dense(32, activation='relu', input_shape=(X_train[0].shape)))\n",
    "model.add(Dense(64, activation='relu'))\n",
    "model.add(Dense(128, activation='relu'))\n",
    "# model.add(Dense(256, activation='relu'))\n",
    "# model.add(Dense(512, activation='relu'))\n",
    "model.add(Flatten(input_shape=(X_train[0].shape)))\n",
    "model.add(Dense(10, activation='sigmoid'))\n",
    "model.compile(optimizer='adam', loss='categorical_crossentropy', metrics=['accuracy'])"
   ]
  },
  {
   "cell_type": "code",
   "execution_count": 14,
   "metadata": {},
   "outputs": [
    {
     "name": "stdout",
     "output_type": "stream",
     "text": [
      "Epoch 1/30\n",
      "1500/1500 [==============================] - 10s 6ms/step - loss: 0.3368 - accuracy: 0.8964 - val_loss: 0.1930 - val_accuracy: 0.9414\n",
      "Epoch 2/30\n",
      "1500/1500 [==============================] - 9s 6ms/step - loss: 0.1559 - accuracy: 0.9531 - val_loss: 0.1536 - val_accuracy: 0.9550\n",
      "Epoch 3/30\n",
      "1500/1500 [==============================] - 9s 6ms/step - loss: 0.1204 - accuracy: 0.9639 - val_loss: 0.1244 - val_accuracy: 0.9640\n",
      "Epoch 4/30\n",
      "1500/1500 [==============================] - 9s 6ms/step - loss: 0.1006 - accuracy: 0.9687 - val_loss: 0.1203 - val_accuracy: 0.9646\n",
      "Epoch 5/30\n",
      "1500/1500 [==============================] - 9s 6ms/step - loss: 0.0862 - accuracy: 0.9730 - val_loss: 0.1143 - val_accuracy: 0.9649\n",
      "Epoch 6/30\n",
      "1500/1500 [==============================] - 9s 6ms/step - loss: 0.0738 - accuracy: 0.9770 - val_loss: 0.1167 - val_accuracy: 0.9662\n",
      "Epoch 7/30\n",
      "1500/1500 [==============================] - 9s 6ms/step - loss: 0.0648 - accuracy: 0.9795 - val_loss: 0.1189 - val_accuracy: 0.9669\n",
      "Epoch 8/30\n",
      "1500/1500 [==============================] - 9s 6ms/step - loss: 0.0576 - accuracy: 0.9812 - val_loss: 0.1339 - val_accuracy: 0.9648\n",
      "Epoch 9/30\n",
      "1500/1500 [==============================] - 9s 6ms/step - loss: 0.0530 - accuracy: 0.9827 - val_loss: 0.1267 - val_accuracy: 0.9625\n",
      "Epoch 10/30\n",
      "1500/1500 [==============================] - 9s 6ms/step - loss: 0.0478 - accuracy: 0.9839 - val_loss: 0.1431 - val_accuracy: 0.9628\n",
      "Epoch 11/30\n",
      "1500/1500 [==============================] - 9s 6ms/step - loss: 0.0432 - accuracy: 0.9853 - val_loss: 0.1472 - val_accuracy: 0.9638\n",
      "Epoch 12/30\n",
      "1500/1500 [==============================] - 9s 6ms/step - loss: 0.0402 - accuracy: 0.9871 - val_loss: 0.1370 - val_accuracy: 0.9672\n",
      "Epoch 13/30\n",
      "1500/1500 [==============================] - 9s 6ms/step - loss: 0.0361 - accuracy: 0.9875 - val_loss: 0.1467 - val_accuracy: 0.9661\n",
      "Epoch 14/30\n",
      "1500/1500 [==============================] - 9s 6ms/step - loss: 0.0325 - accuracy: 0.9891 - val_loss: 0.1468 - val_accuracy: 0.9646\n",
      "Epoch 15/30\n",
      "1500/1500 [==============================] - 9s 6ms/step - loss: 0.0310 - accuracy: 0.9896 - val_loss: 0.1447 - val_accuracy: 0.9666\n",
      "Epoch 16/30\n",
      "1500/1500 [==============================] - 9s 6ms/step - loss: 0.0287 - accuracy: 0.9905 - val_loss: 0.1506 - val_accuracy: 0.9674\n",
      "Epoch 17/30\n",
      "1500/1500 [==============================] - 9s 6ms/step - loss: 0.0271 - accuracy: 0.9911 - val_loss: 0.1614 - val_accuracy: 0.9657\n",
      "Epoch 18/30\n",
      "1500/1500 [==============================] - 9s 6ms/step - loss: 0.0247 - accuracy: 0.9919 - val_loss: 0.1499 - val_accuracy: 0.9675\n",
      "Epoch 19/30\n",
      "1500/1500 [==============================] - 9s 6ms/step - loss: 0.0234 - accuracy: 0.9921 - val_loss: 0.1562 - val_accuracy: 0.9701\n",
      "Epoch 20/30\n",
      "1500/1500 [==============================] - 9s 6ms/step - loss: 0.0227 - accuracy: 0.9925 - val_loss: 0.1909 - val_accuracy: 0.9682\n",
      "Epoch 21/30\n",
      "1500/1500 [==============================] - 9s 6ms/step - loss: 0.0246 - accuracy: 0.9919 - val_loss: 0.1707 - val_accuracy: 0.9681\n",
      "Epoch 22/30\n",
      "1500/1500 [==============================] - 9s 6ms/step - loss: 0.0191 - accuracy: 0.9937 - val_loss: 0.1791 - val_accuracy: 0.9657\n",
      "Epoch 23/30\n",
      "1500/1500 [==============================] - 9s 6ms/step - loss: 0.0183 - accuracy: 0.9941 - val_loss: 0.2261 - val_accuracy: 0.9631\n",
      "Epoch 24/30\n",
      "1500/1500 [==============================] - 9s 6ms/step - loss: 0.0241 - accuracy: 0.9919 - val_loss: 0.1952 - val_accuracy: 0.9657\n",
      "Epoch 25/30\n",
      "1500/1500 [==============================] - 9s 6ms/step - loss: 0.0191 - accuracy: 0.9941 - val_loss: 0.1920 - val_accuracy: 0.9669\n",
      "Epoch 26/30\n",
      "1500/1500 [==============================] - 9s 6ms/step - loss: 0.0183 - accuracy: 0.9937 - val_loss: 0.1858 - val_accuracy: 0.9678\n",
      "Epoch 27/30\n",
      "1500/1500 [==============================] - 9s 6ms/step - loss: 0.0178 - accuracy: 0.9943 - val_loss: 0.1852 - val_accuracy: 0.9692\n",
      "Epoch 28/30\n",
      "1500/1500 [==============================] - 9s 6ms/step - loss: 0.0150 - accuracy: 0.9948 - val_loss: 0.2200 - val_accuracy: 0.9645\n",
      "Epoch 29/30\n",
      "1500/1500 [==============================] - 9s 6ms/step - loss: 0.0206 - accuracy: 0.9933 - val_loss: 0.2099 - val_accuracy: 0.9678\n",
      "Epoch 30/30\n",
      "1500/1500 [==============================] - 9s 6ms/step - loss: 0.0140 - accuracy: 0.9951 - val_loss: 0.2080 - val_accuracy: 0.9676\n"
     ]
    },
    {
     "data": {
      "text/plain": [
       "<keras.src.callbacks.History at 0x7f0b298a8a90>"
      ]
     },
     "execution_count": 14,
     "metadata": {},
     "output_type": "execute_result"
    }
   ],
   "source": [
    "model.fit(X_train, y_train, epochs=30, batch_size=32, validation_split=0.2)"
   ]
  },
  {
   "cell_type": "code",
   "execution_count": 15,
   "metadata": {},
   "outputs": [
    {
     "name": "stdout",
     "output_type": "stream",
     "text": [
      "313/313 [==============================] - 2s 6ms/step - loss: 0.1952 - accuracy: 0.9682\n"
     ]
    },
    {
     "data": {
      "text/plain": [
       "[0.19519539177417755, 0.9682000279426575]"
      ]
     },
     "execution_count": 15,
     "metadata": {},
     "output_type": "execute_result"
    }
   ],
   "source": [
    "model.evaluate(X_test, y_test)"
   ]
  },
  {
   "cell_type": "code",
   "execution_count": 16,
   "metadata": {},
   "outputs": [],
   "source": [
    "def start_count(arr):\n",
    "    result = np.zeros(10)\n",
    "    for i in range(len(arr)):\n",
    "        path = os.path.join('photos', arr[i])\n",
    "        image = tf.keras.utils.load_img(path)\n",
    "        image = tf.image.resize(image, (28, 28))\n",
    "        image = tf.image.rgb_to_grayscale(image)\n",
    "        image = tf.squeeze(image, axis=2)\n",
    "        image = image.numpy()\n",
    "        prediction = model.predict(image.reshape(-1, 28*28), verbose=0)\n",
    "        prediction = tf.argmax(prediction, axis=1)\n",
    "        result[int(prediction)-1]+=1\n",
    "        if i%500==0:\n",
    "            print(f'i = {i}, result = {result}')\n",
    "    return result\n"
   ]
  },
  {
   "cell_type": "code",
   "execution_count": 17,
   "metadata": {},
   "outputs": [],
   "source": [
    "arr = os.listdir('photos')\n",
    "# result = start_count(arr)\n",
    "# print(f'result = {result}')\n",
    "# [1709. 2156. 1268. 1871. 1027.  304. 1041.  377.  283. 1964.] 5 эпох"
   ]
  },
  {
   "cell_type": "code",
   "execution_count": 23,
   "metadata": {},
   "outputs": [
    {
     "name": "stderr",
     "output_type": "stream",
     "text": [
      "/home/ark/miniconda3/envs/tf/lib/python3.11/site-packages/keras/src/engine/training.py:3000: UserWarning: You are saving your model as an HDF5 file via `model.save()`. This file format is considered legacy. We recommend using instead the native Keras format, e.g. `model.save('my_model.keras')`.\n",
      "  saving_api.save_model(\n"
     ]
    }
   ],
   "source": [
    "model.save('main-model_10e.h5')"
   ]
  },
  {
   "cell_type": "code",
   "execution_count": 18,
   "metadata": {},
   "outputs": [],
   "source": [
    "def show_image(x):\n",
    "    image = tf.keras.utils.load_img(f'photos/{x}')\n",
    "    image = tf.image.resize(image, (28, 28))\n",
    "    image = tf.image.rgb_to_grayscale(image)\n",
    "    image = tf.squeeze(image, axis=2)\n",
    "    x = image.numpy()\n",
    "    prediction = model(x.reshape(1, 28*28))\n",
    "    print(np.argmax(prediction))\n",
    "    plt.imshow(image, cmap='binary')\n",
    "    # print(image.shape)    "
   ]
  },
  {
   "cell_type": "code",
   "execution_count": 31,
   "metadata": {},
   "outputs": [
    {
     "name": "stdout",
     "output_type": "stream",
     "text": [
      "6\n"
     ]
    },
    {
     "data": {
      "image/png": "[encoded data removed]",
      "text/plain": [
       "<Figure size 640x480 with 1 Axes>"
      ]
     },
     "metadata": {},
     "output_type": "display_data"
    }
   ],
   "source": [
    "show_image(arr[0])"
   ]
  },
  {
   "cell_type": "code",
   "execution_count": 20,
   "metadata": {},
   "outputs": [
    {
     "name": "stdout",
     "output_type": "stream",
     "text": [
      "313/313 [==============================] - 1s 2ms/step\n",
      "(10000,)\n",
      "[7 2 1 0 4 1 4 9 5 9 0 6 9 0 1 5 9 7 3 4]\n",
      "[7 2 1 0 4 1 4 9 5 9 0 6 9 0 1 5 9 7 3 4]\n"
     ]
    }
   ],
   "source": [
    "pred_test = model.predict(X_test)\n",
    "pred_test = np.argmax(pred_test, axis=1)\n",
    "\n",
    "print(pred_test.shape)\n",
    "\n",
    "print(pred_test[:20])\n",
    "print(y[:20])"
   ]
  },
  {
   "cell_type": "code",
   "execution_count": 32,
   "metadata": {},
   "outputs": [
    {
     "data": {
      "text/plain": [
       "array([[ 968,    0,    0,    0,    2,    1,    3,    1,    2,    3],\n",
       "       [   0, 1126,    4,    0,    0,    2,    2,    1,    0,    0],\n",
       "       [   2,    2, 1003,    2,    3,    2,    3,    9,    6,    0],\n",
       "       [   0,    0,    4,  986,    0,    1,    0,    4,   14,    1],\n",
       "       [   0,    1,    5,    0,  952,    3,    5,    3,    4,    9],\n",
       "       [   3,    2,    0,   19,    1,  840,    9,    0,   15,    3],\n",
       "       [   6,    3,    0,    1,    3,    1,  936,    1,    7,    0],\n",
       "       [   1,    6,    9,    3,    1,    2,    1, 1000,    2,    3],\n",
       "       [  10,    4,    4,    7,    2,    1,    4,    3,  938,    1],\n",
       "       [   3,    5,    0,    6,   22,   10,    1,   15,   18,  929]])"
      ]
     },
     "execution_count": 32,
     "metadata": {},
     "output_type": "execute_result"
    }
   ],
   "source": [
    "from sklearn.metrics import confusion_matrix\n",
    "confusion_matrix(y_pred=pred_test, y_true=y)\n",
    "# tf.math.confusion_matrix(y, pred_test)"
   ]
  },
  {
   "cell_type": "code",
   "execution_count": null,
   "metadata": {},
   "outputs": [],
   "source": []
  }
 ],
 "metadata": {
  "kernelspec": {
   "display_name": "tf",
   "language": "python",
   "name": "python3"
  },
  "language_info": {
   "codemirror_mode": {
    "name": "ipython",
    "version": 3
   },
   "file_extension": ".py",
   "mimetype": "text/x-python",
   "name": "python",
   "nbconvert_exporter": "python",
   "pygments_lexer": "ipython3",
   "version": "3.11.4"
  }
 },
 "nbformat": 4,
 "nbformat_minor": 2
}
